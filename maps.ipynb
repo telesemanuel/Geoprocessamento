{
 "cells": [
  {
   "cell_type": "markdown",
   "metadata": {},
   "source": [
    "# **Mapas**\n",
    "---\n",
    "\n",
    "Na aula de hoje, vamos trabalhar com **geoprocessamento**, que nasa mais é do que a exibição de dados em mapas geográficos. Na célula de código abaixo, vamos vamos importar a bilbioteca de geração de mapas geográficos. Para usarmos, precisamos instalá-la atraves do comando `pip install folium`.\n"
   ]
  },
  {
   "cell_type": "code",
   "execution_count": null,
   "metadata": {},
   "outputs": [],
   "source": [
    "import folium "
   ]
  },
  {
   "cell_type": "markdown",
   "metadata": {},
   "source": [
    "Na próxima célula de código vamos gerar um mapa e fazê-lo abrir na cidade de **Brásilia - DF**."
   ]
  },
  {
   "cell_type": "code",
   "execution_count": null,
   "metadata": {},
   "outputs": [],
   "source": [
    "# mapa brasilia\n",
    "\"\"\"mapa = folium.Map(location = [-15.7834301996, -47.899], zoom_start=13, tiles=\"cartodb positron\")\n",
    "display(mapa)\"\"\"\n",
    "\n",
    "mapa = folium.Map(location = [-15.7834301996, -47.899], zoom_start=13)\n",
    "display(mapa)"
   ]
  },
  {
   "cell_type": "markdown",
   "metadata": {},
   "source": [
    "Na próxima célula de código vamos criar marcações de lugares."
   ]
  },
  {
   "cell_type": "code",
   "execution_count": null,
   "metadata": {},
   "outputs": [],
   "source": [
    "# fazer marcacao de pontos e alteracao de cor e icone\n",
    "mapa = folium.Map(location = [-15.85859, -48.07048], zoom_start=13)\n",
    "folium.Marker(location = [-15.85859, -48.07048], popup=\"Casa\",icon= folium.Icon(color = \"red\", icon = \"user\")).add_to(mapa)\n",
    "folium.Marker(location = [-15.7948, -47.91319], popup=\"Senai SIG\").add_to(mapa)\n",
    "display(mapa)"
   ]
  },
  {
   "cell_type": "code",
   "execution_count": null,
   "metadata": {},
   "outputs": [],
   "source": [
    "mapa = folium.Map(location = [-15.86015, -48.07383], zoom_start=18)\n",
    "folium.Marker(location = [-15.86015, -48.07383], popup=\"CrossBow\", icon= folium.Icon(color = \"green\")).add_to(mapa)\n",
    "display(mapa)"
   ]
  },
  {
   "cell_type": "code",
   "execution_count": null,
   "metadata": {},
   "outputs": [],
   "source": [
    "mapa.save(\"index.html\")"
   ]
  }
 ],
 "metadata": {
  "kernelspec": {
   "display_name": ".venv",
   "language": "python",
   "name": "python3"
  },
  "language_info": {
   "codemirror_mode": {
    "name": "ipython",
    "version": 3
   },
   "file_extension": ".py",
   "mimetype": "text/x-python",
   "name": "python",
   "nbconvert_exporter": "python",
   "pygments_lexer": "ipython3",
   "version": "3.12.5"
  }
 },
 "nbformat": 4,
 "nbformat_minor": 2
}
